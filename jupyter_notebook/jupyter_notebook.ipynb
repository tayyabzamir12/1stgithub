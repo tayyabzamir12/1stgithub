{
 "cells": [
  {
   "cell_type": "markdown",
   "id": "801ee464",
   "metadata": {},
   "source": [
    "# python ka chilla with ammar\n",
    "## how to use juptyer notebook\n",
    "## our basiscs of pythons\n",
    "### **01-my 1st program**"
   ]
  },
  {
   "cell_type": "code",
   "execution_count": 25,
   "id": "1f282f19",
   "metadata": {},
   "outputs": [
    {
     "name": "stdout",
     "output_type": "stream",
     "text": [
      "5\n",
      "hello world\n",
      "we are learning python with ammar\n"
     ]
    }
   ],
   "source": [
    "print(2+3)\n",
    "print('hello world')\n",
    "print('we are learning python with ammar')"
   ]
  },
  {
   "cell_type": "markdown",
   "id": "d580f474",
   "metadata": {},
   "source": [
    "### **02-operators**"
   ]
  },
  {
   "cell_type": "code",
   "execution_count": 26,
   "id": "0a83a039",
   "metadata": {},
   "outputs": [
    {
     "name": "stdout",
     "output_type": "stream",
     "text": [
      "3\n",
      "2\n",
      "3.0\n",
      "12\n",
      "1\n",
      "3\n",
      "8\n",
      "6.5\n"
     ]
    }
   ],
   "source": [
    "print(2+1)\n",
    "print(3-1)\n",
    "print(6/2)\n",
    "print(2*6)\n",
    "print(13%2)\n",
    "print(6//2)\n",
    "print(2**3)\n",
    "\n",
    "print(3**2/2*3/3+6-4)\n"
   ]
  },
  {
   "cell_type": "markdown",
   "id": "c0204e79",
   "metadata": {},
   "source": [
    "*PEMDAS parantheis exponents multiply addition subtraction\n",
    "left to right sequence for M D & A S*"
   ]
  },
  {
   "cell_type": "markdown",
   "id": "0cbf7c86",
   "metadata": {},
   "source": [
    "### **03-strings**"
   ]
  },
  {
   "cell_type": "code",
   "execution_count": 27,
   "id": "7203fad5",
   "metadata": {},
   "outputs": [
    {
     "name": "stdout",
     "output_type": "stream",
     "text": [
      "hello world\n",
      "we are learning python with ammar\n",
      "test for dingle quotes\n",
      "test for double quotes\n",
      " test for triples quotes\n",
      "what's up\n"
     ]
    }
   ],
   "source": [
    "print(\"hello world\")\n",
    "print(\"we are learning python with ammar\")\n",
    "print('test for dingle quotes')\n",
    "print(\"test for double quotes\")\n",
    "print(''' test for triples quotes''')\n",
    "print(\"what's up\")"
   ]
  },
  {
   "cell_type": "markdown",
   "id": "b834bf1a",
   "metadata": {},
   "source": [
    "### **04-comments**\n",
    "shortcut key is **ctrl+/**m"
   ]
  },
  {
   "cell_type": "code",
   "execution_count": 28,
   "id": "e6fe8dc8",
   "metadata": {
    "scrolled": true
   },
   "outputs": [
    {
     "name": "stdout",
     "output_type": "stream",
     "text": [
      "how are you\n",
      "we are learning python with ammar\n",
      "8\n"
     ]
    }
   ],
   "source": [
    "print(\"how are you\")# press this to comment ctrl + /\n",
    "print(\"we are learning python with ammar\") #print a string\n",
    "print(2+6) # print operators function with numbers"
   ]
  },
  {
   "cell_type": "markdown",
   "id": "09f04f80",
   "metadata": {},
   "source": [
    "### **05-variables**"
   ]
  },
  {
   "cell_type": "code",
   "execution_count": 32,
   "id": "ead333d2",
   "metadata": {
    "scrolled": true
   },
   "outputs": [
    {
     "name": "stdout",
     "output_type": "stream",
     "text": [
      "5\n",
      "we are learning python with ammar\n",
      "15\n",
      "<class 'int'>\n",
      "<class 'str'>\n",
      "<class 'int'>\n",
      "15\n"
     ]
    }
   ],
   "source": [
    "#variables: objects containing specific values\n",
    "x=5# numeric or integer value\n",
    "print(x)\n",
    "y=\"we are learning python with ammar\" #string variable\n",
    "print(y)\n",
    "x=x+10#or x=15\n",
    "print(x)\n",
    "#types of variables\n",
    "type(x)\n",
    "print(type(x))\n",
    "print(type(y))\n",
    "\n",
    "#Rules to assign a variable\n",
    "#1- the variables should contain letters, numbers or undescores\n",
    "#2- do not start eith numbers\n",
    "#3- spaces are not allowed\n",
    "#4- do not use keywords used in functions(break,median,mean,test etc)\n",
    "#5- short and descriptive \n",
    "#6- case sensitivity(lowecase, uppercase letters use lower case letters)\n",
    "\n",
    "fruit_basket= \"Mangoes, oranges\"\n",
    "fruit_basket=15\n",
    "print(type(fruit_basket))\n",
    "print(fruit_basket)"
   ]
  },
  {
   "cell_type": "markdown",
   "id": "7c9fb7e0",
   "metadata": {},
   "source": [
    "### **06-input variables**"
   ]
  },
  {
   "cell_type": "code",
   "execution_count": 33,
   "id": "b3ffd346",
   "metadata": {
    "scrolled": true
   },
   "outputs": [
    {
     "name": "stdout",
     "output_type": "stream",
     "text": [
      "mangoes\n",
      "what is your favourite fruit? apple\n",
      "apple\n",
      "what is your name? tayyab\n",
      "hello tayyab\n",
      "what is your name? tayyab\n",
      "Hello tayyab\n",
      "what is your name? tayyab\n",
      "how old are you8\n",
      "hello tayyab ,you are still young\n"
     ]
    }
   ],
   "source": [
    " fruit_basket=\"mangoes\"\n",
    "print(fruit_basket)\n",
    "\n",
    "#input function\n",
    " fruit_basket=input(\"what is your favourite fruit? \")\n",
    " print(fruit_basket)\n",
    "\n",
    "#input function of 2nd stage\n",
    " name= input(\"what is your name? \")\n",
    " greatings=\"hello\"\n",
    " print(greatings, name)\n",
    "\n",
    "# another way of stahage 2 input function\n",
    " name= input(\"what is your name? \")\n",
    "print(\"Hello\", name)\n",
    "\n",
    "#3rd stage input function\n",
    "name=input(\"what is your name? \")\n",
    "age=input(\"how old are you\")\n",
    "greatings=\"hello\"\n",
    "\n",
    "print(greatings, name,\",you are still young\")"
   ]
  },
  {
   "cell_type": "markdown",
   "id": "fa7f105d",
   "metadata": {},
   "source": [
    "### **07-conditional logic**"
   ]
  },
  {
   "cell_type": "code",
   "execution_count": 41,
   "id": "07448c8e",
   "metadata": {},
   "outputs": [
    {
     "name": "stdout",
     "output_type": "stream",
     "text": [
      "how old is hammad5\n",
      "<class 'int'>\n",
      "True\n"
     ]
    }
   ],
   "source": [
    "# logical operators are either or yesor no or 0 or 1\n",
    "# #equal to ==\n",
    "#not equal to !=\n",
    "# lessthan < \n",
    "# greater than >\n",
    "# less than and equal to <=\n",
    "#gretater tha and equal to >=\n",
    "# is 4 equal to 4?\n",
    "\n",
    "\n",
    "#application of logiv=cal operator\n",
    " #hammad_age=4\n",
    " #age_at_school=5\n",
    " #print(hammad-age==age_at_school)\n",
    "\n",
    "#input operators and logical operator\n",
    "age_at_school=5\n",
    "hammad_age=input(\"how old is hammad\")#input function\n",
    "hammad_age=int(hammad_age)\n",
    "print(type(hammad_age))\n",
    "print(hammad_age==age_at_school)\n"
   ]
  },
  {
   "cell_type": "code",
   "execution_count": 42,
   "id": "ff4cf6ec",
   "metadata": {},
   "outputs": [
    {
     "name": "stdout",
     "output_type": "stream",
     "text": [
      "False\n"
     ]
    }
   ],
   "source": [
    "hammad_age=4\n",
    "age_at_school=5\n",
    "print(hammad_age==age_at_school)"
   ]
  },
  {
   "cell_type": "markdown",
   "id": "5c3ebdaf",
   "metadata": {},
   "source": [
    "### **08-type conversion**"
   ]
  },
  {
   "cell_type": "code",
   "execution_count": 43,
   "id": "8b74e191",
   "metadata": {},
   "outputs": [
    {
     "name": "stdout",
     "output_type": "stream",
     "text": [
      "10 type of x is <class 'float'>\n"
     ]
    }
   ],
   "source": [
    " x=10 #integer\n",
    " y=10.2 #float\n",
    " z=\"hello\" #string\n",
    " #implicit type conversion\n",
    " y=x+y\n",
    "\n",
    "\n",
    "print(x, \"type of x is\",type(y))"
   ]
  },
  {
   "cell_type": "code",
   "execution_count": 63,
   "id": "85e34265",
   "metadata": {},
   "outputs": [
    {
     "name": "stdout",
     "output_type": "stream",
     "text": [
      "what is ur age? 65\n",
      "65 <class 'int'>\n"
     ]
    }
   ],
   "source": [
    "#explicit type conversion\n",
    "\n",
    " age=input(\"what is ur age? \" )\n",
    "    #age=int(age)\n",
    "print(age, type(int(age)))"
   ]
  },
  {
   "cell_type": "code",
   "execution_count": 64,
   "id": "824ebc33",
   "metadata": {
    "scrolled": true
   },
   "outputs": [
    {
     "name": "stdout",
     "output_type": "stream",
     "text": [
      "what is your nametayyab\n",
      "tayyab <class 'str'>\n"
     ]
    }
   ],
   "source": [
    "#name\n",
    "name=input(\"what is your name\")\n",
    "print(name, type(str(name)))\n"
   ]
  },
  {
   "cell_type": "markdown",
   "id": "a4c6d6eb",
   "metadata": {},
   "source": [
    "### **09-if, elif, else**"
   ]
  },
  {
   "cell_type": "code",
   "execution_count": 66,
   "id": "7b5e7164",
   "metadata": {},
   "outputs": [
    {
     "name": "stdout",
     "output_type": "stream",
     "text": [
      "hammad should join higher secondary school\n"
     ]
    }
   ],
   "source": [
    "required_age_at_school=5\n",
    "hammad_age=6\n",
    "\n",
    "#questiin: can hammad go to school\n",
    "\n",
    "if hammad_age==required_age_at_school:\n",
    "    print(\"congratulations hammad can join the school\")\n",
    "elif hammad_age > required_age_at_school:\n",
    "      print(\"hammad should join higher secondary school\") \n",
    "elif hammad_age<=2:\n",
    "    print(\"you should take care of hammad, he is still a baby\")         \n",
    "else:\n",
    "    print(\"hammad can not go to school \")  "
   ]
  },
  {
   "cell_type": "markdown",
   "id": "0529af50",
   "metadata": {},
   "source": [
    "### **10-functions**"
   ]
  },
  {
   "cell_type": "code",
   "execution_count": 79,
   "id": "e5a40a96",
   "metadata": {},
   "outputs": [
    {
     "name": "stdout",
     "output_type": "stream",
     "text": [
      "we are learning with ammar\n",
      "we are learning with ammar\n",
      "we are learning with ammar\n"
     ]
    }
   ],
   "source": [
    " #defining a functions\n",
    "\n",
    " def print_codanics():\n",
    "    print(\"we are learning with ammar\")\n",
    "    print(\"we are learning with ammar\")\n",
    "    print(\"we are learning with ammar\")\n",
    "   \n",
    "\n",
    " print_codanics()"
   ]
  },
  {
   "cell_type": "code",
   "execution_count": 85,
   "id": "21abe6b9",
   "metadata": {
    "scrolled": true
   },
   "outputs": [
    {
     "name": "stdout",
     "output_type": "stream",
     "text": [
      "We are learning python with ammar\n",
      "We are learning python with ammar\n",
      "We are learning python with ammar\n"
     ]
    }
   ],
   "source": [
    "def print_codanics():\n",
    "    text=\"We are learning python with ammar\"\n",
    "    print(text)\n",
    "    print(text)\n",
    "    print(text)\n",
    "    \n",
    "print_codanics()"
   ]
  },
  {
   "cell_type": "code",
   "execution_count": 87,
   "id": "e5968c27",
   "metadata": {},
   "outputs": [
    {
     "name": "stdout",
     "output_type": "stream",
     "text": [
      "we are leraing python in channel\n",
      "we are leraing python in channel\n"
     ]
    }
   ],
   "source": [
    "#3\n",
    "def print_codanics(text):\n",
    "     print(text)\n",
    "     print(text)\n",
    "    \n",
    "print_codanics(\"we are leraing python in channel\")"
   ]
  },
  {
   "cell_type": "code",
   "execution_count": 111,
   "id": "e8c0ca1a",
   "metadata": {},
   "outputs": [
    {
     "name": "stdout",
     "output_type": "stream",
     "text": [
      "hammad is still a baby\n"
     ]
    }
   ],
   "source": [
    "def school_calculator(age):\n",
    "    if age==5:\n",
    "       print(\"hammad can join the school\")\n",
    "    elif age>2:\n",
    "        print(\"hammad shoulg go ro higher school\")\n",
    "    else:\n",
    "        print(\"hammad is still a baby\")\n",
    "school_calculator(1)\n",
    "    "
   ]
  },
  {
   "cell_type": "code",
   "execution_count": 112,
   "id": "74204a45",
   "metadata": {},
   "outputs": [
    {
     "name": "stdout",
     "output_type": "stream",
     "text": [
      "38\n"
     ]
    }
   ],
   "source": [
    "# def a function  of future\n",
    "def future_age(age):\n",
    "    new_age=age+20\n",
    "    return new_age\n",
    "    print(new_age)\n",
    "    \n",
    "future_predicated__age=future_age(18) \n",
    "\n",
    "print(future_predicated__age)"
   ]
  },
  {
   "cell_type": "markdown",
   "id": "f27ba2bc",
   "metadata": {},
   "source": [
    "### **11-loops**"
   ]
  },
  {
   "cell_type": "code",
   "execution_count": 120,
   "id": "d4fd046f",
   "metadata": {},
   "outputs": [
    {
     "name": "stdout",
     "output_type": "stream",
     "text": [
      "0\n",
      "1\n",
      "2\n",
      "3\n",
      "4\n",
      "5\n"
     ]
    }
   ],
   "source": [
    "#while and for loops\n",
    "#  #whileloops\n",
    "\n",
    "x=0\n",
    "while (x<=5):\n",
    "    print(x)\n",
    "    x=x+1"
   ]
  },
  {
   "cell_type": "code",
   "execution_count": 121,
   "id": "815ec3e6",
   "metadata": {},
   "outputs": [
    {
     "name": "stdout",
     "output_type": "stream",
     "text": [
      "5\n",
      "6\n",
      "7\n",
      "8\n",
      "9\n"
     ]
    }
   ],
   "source": [
    "#for loop\n",
    "\n",
    "for x in range (5,10):\n",
    "    print(x)"
   ]
  },
  {
   "cell_type": "code",
   "execution_count": 122,
   "id": "d46a3411",
   "metadata": {},
   "outputs": [
    {
     "name": "stdout",
     "output_type": "stream",
     "text": [
      "monday\n",
      "tuesday\n",
      "wednesday\n",
      "thursday\n",
      "saturday\n",
      "sunday\n"
     ]
    }
   ],
   "source": [
    "#array\n",
    "days=[\"monday\",\"tuesday\",\"wednesday\",\"thursday\",\"friday\",\"saturday\",\"sunday\"]\n",
    "\n",
    "for d in days:\n",
    "    #if (d==\"friday\"):break #loops stop\n",
    "    if (d==\"friday\"): continue #skip d\n",
    "    print(d)"
   ]
  },
  {
   "cell_type": "markdown",
   "id": "a0faeeeb",
   "metadata": {},
   "source": [
    "### **12-import libraries**"
   ]
  },
  {
   "cell_type": "code",
   "execution_count": 124,
   "id": "92be1c96",
   "metadata": {},
   "outputs": [
    {
     "name": "stdout",
     "output_type": "stream",
     "text": [
      "the value of pi is 3.141592653589793\n",
      "<module 'statistics' from 'C:\\\\Users\\\\Tayab\\\\anaconda3\\\\lib\\\\statistics.py'> 1100\n"
     ]
    }
   ],
   "source": [
    "# if you want to print the value of pi\n",
    "\n",
    "import math\n",
    "print(\"the value of pi is\", math.pi)\n",
    "\n",
    "import statistics\n",
    "\n",
    "x=[150,250,3550,450]\n",
    "\n",
    "print(statistics,statistics.mean(x))\n",
    "\n",
    "\n",
    "#numpy,pandas"
   ]
  },
  {
   "cell_type": "markdown",
   "id": "faa4c54e",
   "metadata": {},
   "source": [
    "### **13-trouble shouting**"
   ]
  },
  {
   "cell_type": "code",
   "execution_count": 128,
   "id": "db420c6b",
   "metadata": {},
   "outputs": [
    {
     "name": "stdout",
     "output_type": "stream",
     "text": [
      "hello ammar\n"
     ]
    }
   ],
   "source": [
    "#print(we are learning python with ammar) #syntax error\n",
    "\n",
    "#print(25/0) #run time error\n",
    "\n",
    "\n",
    "name=\"ammar\"\n",
    "\n",
    "print(\"hello \"+name)\n",
    "\n",
    "#trouble shooting"
   ]
  }
 ],
 "metadata": {
  "kernelspec": {
   "display_name": "Python 3 (ipykernel)",
   "language": "python",
   "name": "python3"
  },
  "language_info": {
   "codemirror_mode": {
    "name": "ipython",
    "version": 3
   },
   "file_extension": ".py",
   "mimetype": "text/x-python",
   "name": "python",
   "nbconvert_exporter": "python",
   "pygments_lexer": "ipython3",
   "version": "3.9.7"
  }
 },
 "nbformat": 4,
 "nbformat_minor": 5
}
